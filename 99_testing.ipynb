{
 "cells": [
  {
   "cell_type": "code",
   "execution_count": 1,
   "metadata": {},
   "outputs": [],
   "source": [
    "%load_ext autoreload\n",
    "%autoreload 2"
   ]
  },
  {
   "cell_type": "markdown",
   "metadata": {},
   "source": [
    "**Test our core function**"
   ]
  },
  {
   "cell_type": "code",
   "execution_count": 39,
   "metadata": {},
   "outputs": [
    {
     "name": "stderr",
     "output_type": "stream",
     "text": [
      "Permuting...: 100%|██████████| 250/250 [00:00<00:00, 2008.89it/s]\n"
     ]
    },
    {
     "data": {
      "text/plain": [
       "(np.int64(103), np.int64(8), np.int64(0))"
      ]
     },
     "execution_count": 39,
     "metadata": {},
     "output_type": "execute_result"
    }
   ],
   "source": [
    "import numpy as np\n",
    "from pstn.inference import permutation_analysis\n",
    "from pstn.stats import welchs_t_glm\n",
    "import matplotlib.pyplot as plt\n",
    "import seaborn as sns\n",
    "from tqdm import tqdm\n",
    "\n",
    "n_samples = 36\n",
    "n_elements_per_sample = 2000\n",
    "n_features = 3\n",
    "n_permutations = 250\n",
    "n_exchangeability_groups = 2\n",
    "random_seed = 42\n",
    "\n",
    "simulated_data = np.random.randn(n_samples, n_elements_per_sample)\n",
    "simulated_design = np.random.randn(n_samples, n_features)\n",
    "simulated_contrast = np.zeros(n_features)\n",
    "simulated_contrast[0] = 1\n",
    "\n",
    "simulated_exchangeability_matrix = np.hstack([np.ones(np.floor(n_samples / n_exchangeability_groups).astype(int)) * i+1 for i in range(n_exchangeability_groups)])\n",
    "if n_samples % n_exchangeability_groups != 0:\n",
    "    simulated_exchangeability_matrix = np.hstack([simulated_exchangeability_matrix, np.ones(n_samples % n_exchangeability_groups) * n_exchangeability_groups])\n",
    "\n",
    "unc_p, fdr_p, fwe_p = permutation_analysis(simulated_data, simulated_design, simulated_contrast, welchs_t_glm, n_permutations, random_seed, two_tailed=True, exchangeability_matrix=simulated_exchangeability_matrix, within=True, whole=False, accel_tail=True)\n",
    "\n",
    "np.sum(np.where(unc_p<0.05, 1, 0)), np.sum(np.where(fdr_p<0.05, 1, 0)), np.sum(np.where(fwe_p<0.05, 1, 0))"
   ]
  }
 ],
 "metadata": {
  "kernelspec": {
   "display_name": "pstn_env",
   "language": "python",
   "name": "python3"
  },
  "language_info": {
   "codemirror_mode": {
    "name": "ipython",
    "version": 3
   },
   "file_extension": ".py",
   "mimetype": "text/x-python",
   "name": "python",
   "nbconvert_exporter": "python",
   "pygments_lexer": "ipython3",
   "version": "3.13.1"
  }
 },
 "nbformat": 4,
 "nbformat_minor": 2
}
