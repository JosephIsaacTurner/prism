{
 "cells": [
  {
   "cell_type": "markdown",
   "metadata": {},
   "source": [
    "**Create some Fake Data with a Signal**"
   ]
  },
  {
   "cell_type": "code",
   "execution_count": null,
   "metadata": {},
   "outputs": [
    {
     "name": "stderr",
     "output_type": "stream",
     "text": [
      "100%|██████████| 100/100 [00:20<00:00,  4.97it/s]\n"
     ]
    }
   ],
   "source": [
    "from prism.loading import generate_null_brain_map, fetch_mni152_2mm_mask_img\n",
    "from prism.stats import t\n",
    "from prism.inference import permutation_analysis_volumetric_dense\n",
    "import numpy as np\n",
    "from tqdm import tqdm\n",
    "from nilearn.maskers import NiftiMasker\n",
    "import os\n",
    "import pandas as pd\n",
    "\n",
    "# Create random maps\n",
    "mask_img = fetch_mni152_2mm_mask_img()\n",
    "n_maps = 100\n",
    "imgs = []\n",
    "img_paths = []\n",
    "for i in tqdm(range(n_maps)):\n",
    "    if i < 11:\n",
    "        random_state = 42\n",
    "    elif i > (n_maps - 11):\n",
    "        random_state = 37\n",
    "    else:\n",
    "        random_state = i\n",
    "    imgs.append(generate_null_brain_map(mask_img, random_state=random_state))\n",
    "    imgs[i].to_filename(f'/Users/jt041/repos/pstn/testing_outputs/null_brain_maps/null_brain_map_{i+1}.nii.gz')\n",
    "    img_paths.append(os.path.abspath(f'/Users/jt041/repos/pstn/testing_outputs/null_brain_maps/null_brain_map_{i+1}.nii.gz'))\n",
    "\n",
    "# Save paths and concatenate images\n",
    "np.random.seed(42)\n",
    "masker = NiftiMasker(mask_img=mask_img)\n",
    "data = masker.fit_transform(imgs)\n",
    "concatenated_img = masker.inverse_transform(data)\n",
    "concatenated_img.to_filename('/Users/jt041/repos/pstn/testing_outputs/null_brain_maps_concatenated.nii')\n",
    "pd.DataFrame(img_paths).to_csv('/Users/jt041/repos/pstn/testing_outputs/null_brain_map_paths.csv', index=False, header=False)\n",
    "\n",
    "# Define design matrix\n",
    "design_col1 = np.hstack([np.ones(10)+0.75, np.random.randn(n_maps-10)])\n",
    "design_col1 += np.random.randn(n_maps) * 0.01\n",
    "design_col2 = np.hstack([np.random.randn(n_maps-10), np.ones(10)-1.75])\n",
    "design_col2 += np.random.randn(n_maps) * 0.01\n",
    "design_col3 = np.random.randn(n_maps) * 2\n",
    "intercept = np.ones(n_maps)\n",
    "design = np.vstack([design_col1, design_col2, design_col3, intercept]).T\n",
    "design = design.astype(np.float16)\n",
    "\n",
    "# Define T and F contrasts\n",
    "contrast_r1 = np.atleast_2d(np.array([1, 0, 0, 0]))\n",
    "contrast_r2 = np.atleast_2d(np.array([0, 1, 0, 0]))\n",
    "contrast = np.vstack([contrast_r1, contrast_r2])\n",
    "f_contrast_indices = [1,1]\n",
    "\n",
    "# Define exchangeability blocks\n",
    "exchangeability_blocks = np.hstack([np.ones(np.floor(n_maps / 2).astype(int)) * i+1 for i in range(2)])\n",
    "if n_maps % 2 != 0:\n",
    "    exchangeability_blocks = np.hstack([exchangeability_blocks, np.ones(n_maps % 2) * 2])\n",
    "\n",
    "\n",
    "# Save design and contrast as csvs and npys\n",
    "np.save('/Users/jt041/repos/pstn/testing_outputs/design.npy', design)\n",
    "np.save('/Users/jt041/repos/pstn/testing_outputs/contrast.npy', contrast)\n",
    "np.save('/Users/jt041/repos/pstn/testing_outputs/exchangeability_blocks.npy', exchangeability_blocks)\n",
    "np.save('/Users/jt041/repos/pstn/testing_outputs/f_contrast_indices.npy', f_contrast_indices)\n",
    "pd.DataFrame(design).to_csv('/Users/jt041/repos/pstn/testing_outputs/design.csv', index=False, header=False)\n",
    "pd.DataFrame(contrast).to_csv('/Users/jt041/repos/pstn/testing_outputs/contrast.csv', index=False, header=False)\n",
    "pd.DataFrame(exchangeability_blocks).to_csv('/Users/jt041/repos/pstn/testing_outputs/exchangeability_blocks.csv', index=False, header=False)\n",
    "pd.DataFrame(np.atleast_2d(f_contrast_indices)).to_csv('/Users/jt041/repos/pstn/testing_outputs/f_contrast_indices.csv', index=False, header=False)"
   ]
  },
  {
   "cell_type": "code",
   "execution_count": null,
   "metadata": {},
   "outputs": [
    {
     "name": "stderr",
     "output_type": "stream",
     "text": [
      "100%|██████████| 10000/10000 [00:00<00:00, 20133.72it/s]\n"
     ]
    },
    {
     "name": "stdout",
     "output_type": "stream",
     "text": [
      "Jax compiled approach takes 5.06742000579834e-05 seconds per iteration\n"
     ]
    },
    {
     "name": "stderr",
     "output_type": "stream",
     "text": [
      "100%|██████████| 10000/10000 [00:02<00:00, 3633.78it/s]"
     ]
    },
    {
     "name": "stdout",
     "output_type": "stream",
     "text": [
      "Scipy zscore approach takes 0.000275308084487915 seconds per iteration\n",
      "Speedup ratio using jax: 5.432904400521306\n"
     ]
    },
    {
     "name": "stderr",
     "output_type": "stream",
     "text": [
      "\n"
     ]
    }
   ],
   "source": [
    "from scipy.stats import zscore as scipy_zscore\n",
    "from jax import jit\n",
    "from jax import numpy as jnp\n",
    "import numpy as np\n",
    "from tqdm import tqdm\n",
    "import time\n",
    "from prism.stats import zscore as jax_zscore\n",
    "\n",
    "# Random matrix\n",
    "arr = np.random.rand(3, 100000)\n",
    "arr.shape\n",
    "\n",
    "\n",
    "vec1 = arr[0, :]\n",
    "\n",
    "n_iterations = 10000\n",
    "time_start = time.time()\n",
    "for i in tqdm(range(n_iterations)):\n",
    "    vec2_z = jax_zscore(vec1)\n",
    "timeend = time.time()\n",
    "time_per_iteration_jax = (timeend - time_start) / n_iterations\n",
    "print(\"Jax compiled approach takes\", time_per_iteration_jax, \"seconds per iteration\")\n",
    "\n",
    "# Now try the scipy zscore, using jax.vmap, but not compiling, to se if its better\n",
    "start_time = time.time()\n",
    "for i in tqdm(range(n_iterations)):\n",
    "    vec2_z = scipy_zscore(vec1)\n",
    "end_time = time.time()\n",
    "time_per_iteration_scipy = (end_time - start_time) / n_iterations\n",
    "print(\"Scipy zscore approach takes\", time_per_iteration_scipy, \"seconds per iteration\")\n",
    "\n",
    "# Calculate speedup ratio using jax\n",
    "speedup_ratio = time_per_iteration_scipy / time_per_iteration_jax\n",
    "print(\"Speedup ratio using jax:\", speedup_ratio)"
   ]
  }
 ],
 "metadata": {
  "kernelspec": {
   "display_name": "pstn_env",
   "language": "python",
   "name": "python3"
  },
  "language_info": {
   "codemirror_mode": {
    "name": "ipython",
    "version": 3
   },
   "file_extension": ".py",
   "mimetype": "text/x-python",
   "name": "python",
   "nbconvert_exporter": "python",
   "pygments_lexer": "ipython3",
   "version": "3.13.1"
  }
 },
 "nbformat": 4,
 "nbformat_minor": 2
}
