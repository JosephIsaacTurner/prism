{
 "cells": [
  {
   "cell_type": "markdown",
   "metadata": {},
   "source": [
    "**Define Output Dirs**"
   ]
  },
  {
   "cell_type": "code",
   "execution_count": 1,
   "metadata": {},
   "outputs": [],
   "source": [
    "map_output_dir = '/data/nimlab/USERS/joseph/external_python_modules/prism/testing_outputs/test_maps/'\n",
    "meta_output_dir = '/data/nimlab/USERS/joseph/external_python_modules/prism/testing_outputs/'\n",
    "results_output_prefix = '/data/nimlab/USERS/joseph/external_python_modules/prism/testing_outputs/prism_output/prism'"
   ]
  },
  {
   "cell_type": "markdown",
   "metadata": {},
   "source": [
    "**Create some Fake Data with a Signal**"
   ]
  },
  {
   "cell_type": "code",
   "execution_count": 2,
   "metadata": {},
   "outputs": [],
   "source": [
    "# from prism.loading import generate_null_brain_map, fetch_mni152_2mm_mask_img\n",
    "# from prism.stats import t\n",
    "# from prism.inference import permutation_analysis_volumetric_dense\n",
    "# import numpy as np\n",
    "# from tqdm import tqdm\n",
    "# from nilearn.maskers import NiftiMasker\n",
    "# import os\n",
    "# import pandas as pd\n",
    "\n",
    "# os.makedirs(map_output_dir, exist_ok=True)\n",
    "# os.makedirs(meta_output_dir, exist_ok=True)\n",
    "\n",
    "# # Create random maps\n",
    "# mask_img = fetch_mni152_2mm_mask_img()\n",
    "# n_maps = 100\n",
    "# imgs = []\n",
    "# img_paths = []\n",
    "# for i in tqdm(range(n_maps)):\n",
    "#     if i < 11:\n",
    "#         random_state = 42\n",
    "#     elif i > (n_maps - 11):\n",
    "#         random_state = 37\n",
    "#     else:\n",
    "#         random_state = i\n",
    "#     imgs.append(generate_null_brain_map(mask_img, random_state=random_state))\n",
    "#     imgs[i].to_filename(os.path.join(map_output_dir, f'null_brain_map_{i+1}.nii.gz'))\n",
    "#     img_paths.append(os.path.join(map_output_dir, f'null_brain_map_{i+1}.nii.gz'))\n",
    "\n",
    "# # Save paths and concatenate images\n",
    "# np.random.seed(42)\n",
    "# masker = NiftiMasker(mask_img=mask_img)\n",
    "# data = masker.fit_transform(imgs)\n",
    "# concatenated_img = masker.inverse_transform(data)\n",
    "# concatenated_img.to_filename(os.path.join(meta_output_dir, 'null_brain_maps_concatenated.nii'))\n",
    "# pd.DataFrame(img_paths).to_csv(os.path.join(meta_output_dir, 'null_brain_map_paths.csv'), index=False, header=False)\n",
    "\n",
    "# # Define design matrix\n",
    "# design_col1 = np.hstack([np.ones(10)+0.75, np.random.randn(n_maps-10)])\n",
    "# design_col1 += np.random.randn(n_maps) * 0.01\n",
    "# design_col2 = np.hstack([np.random.randn(n_maps-10), np.ones(10)-1.75])\n",
    "# design_col2 += np.random.randn(n_maps) * 0.01\n",
    "# design_col3 = np.random.randn(n_maps) * 2\n",
    "# intercept = np.ones(n_maps)\n",
    "# design = np.vstack([design_col1, design_col2, design_col3, intercept]).T\n",
    "# design = design.astype(np.float16)\n",
    "\n",
    "# # Define T and F contrasts\n",
    "# contrast_r1 = np.atleast_2d(np.array([1, 0, 0, 0]))\n",
    "# contrast_r2 = np.atleast_2d(np.array([0, 1, 0, 0]))\n",
    "# contrast = np.vstack([contrast_r1, contrast_r2])\n",
    "# f_contrast_indices = [1,1]\n",
    "\n",
    "# # Define exchangeability blocks\n",
    "# exchangeability_blocks = np.hstack([np.ones(np.floor(n_maps / 2).astype(int)) * i+1 for i in range(2)])\n",
    "# if n_maps % 2 != 0:\n",
    "#     exchangeability_blocks = np.hstack([exchangeability_blocks, np.ones(n_maps % 2) * 2])\n",
    "\n",
    "\n",
    "# # Save design and contrast as csvs and npys\n",
    "# np.save(os.path.join(meta_output_dir, 'design.npy'), design)\n",
    "# np.save(os.path.join(meta_output_dir, 'contrast.npy'), contrast)\n",
    "# np.save(os.path.join(meta_output_dir, 'exchangeability_blocks.npy'), exchangeability_blocks)\n",
    "# np.save(os.path.join(meta_output_dir, 'f_contrast_indices.npy'), f_contrast_indices)\n",
    "# pd.DataFrame(design).to_csv(os.path.join(meta_output_dir, 'design.csv'), index=False, header=False)\n",
    "# pd.DataFrame(contrast).to_csv(os.path.join(meta_output_dir, 'contrast.csv'), index=False, header=False)\n",
    "# pd.DataFrame(exchangeability_blocks).to_csv(os.path.join(meta_output_dir, 'exchangeability_blocks.csv'), index=False, header=False)\n",
    "# pd.DataFrame(np.atleast_2d(f_contrast_indices)).to_csv(os.path.join(meta_output_dir, 'f_contrast_indices.csv'), index=False, header=False)\n"
   ]
  },
  {
   "cell_type": "markdown",
   "metadata": {},
   "source": [
    "**Create System Commands for both Prism and PALM**"
   ]
  },
  {
   "cell_type": "code",
   "execution_count": 2,
   "metadata": {},
   "outputs": [
    {
     "data": {
      "text/html": [
       "\n",
       "<div style=\"margin-bottom:1em;\">\n",
       "  <pre id=\"prism-cmd\" style=\"border:1px solid #ccc; padding:8px; white-space: pre-wrap;\">prism -i /data/nimlab/USERS/joseph/external_python_modules/prism/testing_outputs/null_brain_maps_concatenated.nii -m /data/nimlab/software/miniforge_2024-08-31/packages/envs/nimlab_dev/lib/python3.11/site-packages/nimlab/data/MNI152_T1_2mm_brain_mask.nii -d /data/nimlab/USERS/joseph/external_python_modules/prism/testing_outputs/design.csv -t /data/nimlab/USERS/joseph/external_python_modules/prism/testing_outputs/contrast_1d.csv -n 150 -o /data/nimlab/USERS/joseph/external_python_modules/prism/testing_outputs/prism_output/prismacceltail -accel tail -save1-p</pre>\n",
       "  <button onclick=\"\n",
       "    navigator.clipboard.writeText(document.getElementById('prism-cmd').innerText)\n",
       "      .then(() => this.textContent='Copied!')\n",
       "      .catch(() => this.textContent='Failed');\n",
       "  \">Copy Prism Command</button>\n",
       "</div>\n",
       "<div style=\"margin-bottom:1em;\">\n",
       "  <pre id=\"palm-cmd\" style=\"border:1px solid #ccc; padding:8px; white-space: pre-wrap;\">palm -i /data/nimlab/USERS/joseph/external_python_modules/prism/testing_outputs/null_brain_maps_concatenated.nii -m /data/nimlab/software/miniforge_2024-08-31/packages/envs/nimlab_dev/lib/python3.11/site-packages/nimlab/data/MNI152_T1_2mm_brain_mask.nii -d /data/nimlab/USERS/joseph/external_python_modules/prism/testing_outputs/design.csv -t /data/nimlab/USERS/joseph/external_python_modules/prism/testing_outputs/contrast_1d.csv -n 150 -o /data/nimlab/USERS/joseph/external_python_modules/prism/testing_outputs/palm_output/palmacceltail -accel tail -save1-p</pre>\n",
       "  <button onclick=\"\n",
       "    navigator.clipboard.writeText(document.getElementById('palm-cmd').innerText)\n",
       "      .then(() => this.textContent='Copied!')\n",
       "      .catch(() => this.textContent='Failed');\n",
       "  \">Copy PALM Command</button>\n",
       "</div>\n"
      ],
      "text/plain": [
       "<IPython.core.display.HTML object>"
      ]
     },
     "metadata": {},
     "output_type": "display_data"
    }
   ],
   "source": [
    "from nimlab.datasets import get_img_path\n",
    "from IPython.display import HTML, display\n",
    "import os\n",
    "\n",
    "mask_path = get_img_path('MNI152_T1_2mm_brain_mask')\n",
    "prism_cmd = f\"\"\"\n",
    "prism\n",
    "-i {os.path.join(meta_output_dir, 'null_brain_maps_concatenated.nii')}\n",
    "-m {mask_path}\n",
    "-d {os.path.join(meta_output_dir, 'design.csv')}\n",
    "-t {os.path.join(meta_output_dir, 'contrast.csv')}\n",
    "-f {os.path.join(meta_output_dir, 'f_contrast_indices.csv')}\n",
    "-n 500\n",
    "-eb {os.path.join(meta_output_dir, 'exchangeability_blocks.csv')}\n",
    "-o {results_output_prefix}\n",
    "-accel tail\n",
    "-save1-p\n",
    "\"\"\"\n",
    "\n",
    "prism_cmd = f\"\"\"\n",
    "prism\n",
    "-i {os.path.join(meta_output_dir, 'null_brain_maps_concatenated.nii')}\n",
    "-m {mask_path}\n",
    "-d {os.path.join(meta_output_dir, 'design.csv')}\n",
    "-t {os.path.join(meta_output_dir, 'contrast_1d.csv')}\n",
    "-n 150\n",
    "-o {results_output_prefix}acceltail\n",
    "-accel tail\n",
    "-save1-p\n",
    "\"\"\"\n",
    "prism_cmd = prism_cmd.replace('\\n', ' ').strip()\n",
    "prism_cmd\n",
    "\n",
    "palm_cmd = prism_cmd.replace('prism', 'palm').replace('/palm/', '/prism/')\n",
    "\n",
    "\n",
    "# build the HTML string\n",
    "html = f\"\"\"\n",
    "<div style=\"margin-bottom:1em;\">\n",
    "  <pre id=\"prism-cmd\" style=\"border:1px solid #ccc; padding:8px; white-space: pre-wrap;\">{prism_cmd}</pre>\n",
    "  <button onclick=\"\n",
    "    navigator.clipboard.writeText(document.getElementById('prism-cmd').innerText)\n",
    "      .then(() => this.textContent='Copied!')\n",
    "      .catch(() => this.textContent='Failed');\n",
    "  \">Copy Prism Command</button>\n",
    "</div>\n",
    "<div style=\"margin-bottom:1em;\">\n",
    "  <pre id=\"palm-cmd\" style=\"border:1px solid #ccc; padding:8px; white-space: pre-wrap;\">{palm_cmd}</pre>\n",
    "  <button onclick=\"\n",
    "    navigator.clipboard.writeText(document.getElementById('palm-cmd').innerText)\n",
    "      .then(() => this.textContent='Copied!')\n",
    "      .catch(() => this.textContent='Failed');\n",
    "  \">Copy PALM Command</button>\n",
    "</div>\n",
    "\"\"\"\n",
    "\n",
    "# display it\n",
    "display(HTML(html))"
   ]
  },
  {
   "cell_type": "markdown",
   "metadata": {},
   "source": [
    "**Run sys commands**"
   ]
  },
  {
   "cell_type": "code",
   "execution_count": 3,
   "metadata": {},
   "outputs": [
    {
     "name": "stdout",
     "output_type": "stream",
     "text": [
      "PYPALM - Permutation Analysis of Linear Models\n",
      "=============================================\n",
      "Input file: /data/nimlab/USERS/joseph/external_python_modules/prism/testing_outputs/null_brain_maps_concatenated.nii\n",
      "Design matrix: /data/nimlab/USERS/joseph/external_python_modules/prism/testing_outputs/design.csv\n",
      "Contrast: /data/nimlab/USERS/joseph/external_python_modules/prism/testing_outputs/contrast_1d.csv\n",
      "Number of permutations: 150\n",
      "Output prefix: /data/nimlab/USERS/joseph/external_python_modules/prism/testing_outputs/prism_output/prismacceltail\n",
      "Input data is NIfTI-like. Using volumetric dense analysis.\n",
      "--- Processing Contrast 1/1 ---\n",
      "Using accelerated tail method for p-value computation.\n",
      "Found good GPD fit.\n",
      "Succesfully refined tail p-values.\n",
      "Analysis complete. Results saved to output files.\n"
     ]
    },
    {
     "name": "stderr",
     "output_type": "stream",
     "text": [
      "                                                               \r"
     ]
    }
   ],
   "source": [
    "%%bash\n",
    "prism -i /data/nimlab/USERS/joseph/external_python_modules/prism/testing_outputs/null_brain_maps_concatenated.nii -m /data/nimlab/software/miniforge_2024-08-31/packages/envs/nimlab_dev/lib/python3.11/site-packages/nimlab/data/MNI152_T1_2mm_brain_mask.nii -d /data/nimlab/USERS/joseph/external_python_modules/prism/testing_outputs/design.csv -t /data/nimlab/USERS/joseph/external_python_modules/prism/testing_outputs/contrast_1d.csv -n 150 -o /data/nimlab/USERS/joseph/external_python_modules/prism/testing_outputs/prism_output/prismacceltail -accel tail -save1-p"
   ]
  },
  {
   "cell_type": "markdown",
   "metadata": {},
   "source": [
    "**Let's see mean difference across voxelwise results using both softwares**"
   ]
  },
  {
   "cell_type": "code",
   "execution_count": null,
   "metadata": {},
   "outputs": [],
   "source": [
    "from nilearn.maskers import NiftiMasker\n",
    "import numpy as np\n",
    "\n",
    "masker = NiftiMasker(mask_img=mask_path).fit()\n",
    "\n",
    "# For Contrast #1\n",
    "prism_path = os.path.join(meta_output_dir, 'prism_output/prism_vox_tstat_c1.nii.gz')\n",
    "palm_path = os.path.join(meta_output_dir, 'palm_output/palm_vox_tstat_c1.nii')\n",
    "\n",
    "prism_data = np.ravel(masker.transform(prism_path))\n",
    "palm_data = np.ravel(masker.transform(palm_path))\n",
    "diff = np.abs(prism_data - palm_data)\n",
    "print(\"C1: mean difference between prism and palm: \", np.mean(diff))\n",
    "\n",
    "# # For Contrast #2\n",
    "# prism_path = os.path.join(meta_output_dir, 'prism_output/prism_vox_tstat_c2.nii.gz')\n",
    "# palm_path = os.path.join(meta_output_dir, 'palm_output/palm_vox_tstat_c2.nii')\n",
    "\n",
    "# prism_data = np.ravel(masker.transform(prism_path))\n",
    "# palm_data = np.ravel(masker.transform(palm_path))\n",
    "# diff = np.abs(prism_data - palm_data)\n",
    "# print(\"C2: mean difference between prism and palm: \", np.mean(diff))\n",
    "\n",
    "# # For F test\n",
    "# prism_path = os.path.join(meta_output_dir, 'prism_output/prism_vox_fstat_f.nii.gz')\n",
    "# palm_path = os.path.join(meta_output_dir, 'palm_output/palm_vox_fstat_c3.nii')\n",
    "# prism_data = np.ravel(masker.transform(prism_path))\n",
    "# palm_data = np.ravel(masker.transform(palm_path))\n",
    "# diff = np.abs(prism_data - palm_data)\n",
    "# print(\"F: mean difference between prism and palm: \", np.mean(diff))"
   ]
  },
  {
   "cell_type": "markdown",
   "metadata": {},
   "source": [
    "**Test compute p values accel tail**"
   ]
  },
  {
   "cell_type": "code",
   "execution_count": 27,
   "metadata": {},
   "outputs": [
    {
     "name": "stdout",
     "output_type": "stream",
     "text": [
      "Using accelerated tail method for p-value computation.\n"
     ]
    },
    {
     "name": "stdout",
     "output_type": "stream",
     "text": [
      "Found good GPD fit.\n",
      "Succesfully refined tail p-values.\n",
      "0.9999999979336966\n",
      "0.9966777408637874\n"
     ]
    }
   ],
   "source": [
    "from prism.inference import compute_p_values_accel_tail, gpdpvals\n",
    "import nibabel as nib\n",
    "import numpy as np\n",
    "\n",
    "\n",
    "null_dist = np.load('/data/nimlab/USERS/joseph/external_python_modules/prism/testing_outputs/prism_output/prismacceltail_max_tstat_dist.npy')\n",
    "null_dist = np.random.permutation(null_dist)[:300]\n",
    "stat_img = nib.load('/data/nimlab/USERS/joseph/external_python_modules/prism/testing_outputs/prism_output/prismacceltail_vox_tstat.nii.gz')\n",
    "stat_values = stat_img.get_fdata()\n",
    "stat_values = np.ravel(stat_values)\n",
    "stat_values_nonzero_mask = stat_values != 0\n",
    "obs = stat_values[stat_values_nonzero_mask]\n",
    "\n",
    "refined_fwep = compute_p_values_accel_tail(\n",
    "    obs, null_dist, two_tailed=False\n",
    ")\n",
    "refined_fwep = 1 - refined_fwep\n",
    "print(np.max(refined_fwep))\n",
    "\n",
    "empirical_fwep = (np.sum(null_dist[None] >= obs[:, None], axis=1) + 1) / (len(null_dist) + 1)\n",
    "empirical_fwep = 1 - empirical_fwep\n",
    "print(np.max(empirical_fwep))\n",
    "\n",
    "diff_vector = refined_fwep - empirical_fwep\n",
    "\n",
    "\n",
    "stat_values[stat_values_nonzero_mask] = refined_fwep\n",
    "stat_values_3d = stat_values.reshape(stat_img.shape)\n",
    "stat_img = nib.Nifti1Image(stat_values_3d, stat_img.affine, stat_img.header)\n",
    "stat_img.to_filename('/data/nimlab/USERS/joseph/external_python_modules/prism/testing_outputs/prism_output/prismacceltail_vox_tstat_fwep_test.nii.gz')\n",
    "\n",
    "stat_values[stat_values_nonzero_mask] = empirical_fwep\n",
    "stat_values_3d = stat_values.reshape(stat_img.shape)\n",
    "stat_img = nib.Nifti1Image(stat_values_3d, stat_img.affine, stat_img.header)\n",
    "stat_img.to_filename('/data/nimlab/USERS/joseph/external_python_modules/prism/testing_outputs/prism_output/prismacceltail_vox_tstat_empirical_fwep_test.nii.gz')\n",
    "\n",
    "stat_values[stat_values_nonzero_mask] = diff_vector\n",
    "stat_values_3d = stat_values.reshape(stat_img.shape)\n",
    "stat_img = nib.Nifti1Image(stat_values_3d, stat_img.affine, stat_img.header)\n",
    "stat_img.to_filename('/data/nimlab/USERS/joseph/external_python_modules/prism/testing_outputs/prism_output/prismacceltail_vox_tstat_diff_test.nii.gz')"
   ]
  }
 ],
 "metadata": {
  "kernelspec": {
   "display_name": "nimlab_dev",
   "language": "python",
   "name": "python3"
  },
  "language_info": {
   "codemirror_mode": {
    "name": "ipython",
    "version": 3
   },
   "file_extension": ".py",
   "mimetype": "text/x-python",
   "name": "python",
   "nbconvert_exporter": "python",
   "pygments_lexer": "ipython3",
   "version": "3.11.0"
  }
 },
 "nbformat": 4,
 "nbformat_minor": 2
}
