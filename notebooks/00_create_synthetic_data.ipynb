{
 "cells": [
  {
   "cell_type": "markdown",
   "metadata": {},
   "source": [
    "**Define Output Dirs**"
   ]
  },
  {
   "cell_type": "code",
   "execution_count": 2,
   "metadata": {},
   "outputs": [],
   "source": [
    "map_output_dir = '/Users/jt041/repos/prism/testing_outputs/test_maps/'\n",
    "meta_output_dir = '/Users/jt041/repos/prism/testing_outputs/'\n",
    "results_output_prefix = '/Users/jt041/repos/prism/testing_outputs/prism_output/prism'"
   ]
  },
  {
   "cell_type": "markdown",
   "metadata": {},
   "source": [
    "**Create Synthetic NIfTI Data**"
   ]
  },
  {
   "cell_type": "code",
   "execution_count": null,
   "metadata": {},
   "outputs": [],
   "source": [
    "from prism.datasets import generate_null_brain_map, fetch_mni152_2mm_mask_img\n",
    "import numpy as np\n",
    "from tqdm import tqdm\n",
    "from nilearn.maskers import NiftiMasker\n",
    "import os\n",
    "import pandas as pd\n",
    "\n",
    "os.makedirs(map_output_dir, exist_ok=True)\n",
    "os.makedirs(meta_output_dir, exist_ok=True)\n",
    "\n",
    "# Create random maps\n",
    "mask_img = fetch_mni152_2mm_mask_img()\n",
    "n_maps = 100\n",
    "imgs = []\n",
    "img_paths = []\n",
    "for i in tqdm(range(n_maps)):\n",
    "    if i < 11:\n",
    "        random_state = 42\n",
    "    elif i > (n_maps - 11):\n",
    "        random_state = 37\n",
    "    else:\n",
    "        random_state = i\n",
    "    imgs.append(generate_null_brain_map(mask_img, random_state=random_state))\n",
    "    imgs[i].to_filename(os.path.join(map_output_dir, f'null_brain_map_{i+1}.nii.gz'))\n",
    "    img_paths.append(os.path.join(map_output_dir, f'null_brain_map_{i+1}.nii.gz'))\n",
    "\n",
    "# Save paths and concatenate images\n",
    "np.random.seed(42)\n",
    "masker = NiftiMasker(mask_img=mask_img)\n",
    "data = masker.fit_transform(imgs)\n",
    "concatenated_img = masker.inverse_transform(data)\n",
    "concatenated_img.to_filename(os.path.join(meta_output_dir, 'null_brain_maps_concatenated.nii'))\n",
    "pd.DataFrame(img_paths).to_csv(os.path.join(meta_output_dir, 'null_brain_map_paths.csv'), index=False, header=False)\n",
    "\n",
    "# Define design matrix\n",
    "design_col1 = np.hstack([np.ones(10)+0.75, np.random.randn(n_maps-10)])\n",
    "design_col1 += np.random.randn(n_maps) * 0.01\n",
    "design_col2 = np.hstack([np.random.randn(n_maps-10), np.ones(10)-1.75])\n",
    "design_col2 += np.random.randn(n_maps) * 0.01\n",
    "design_col3 = np.random.randn(n_maps) * 2\n",
    "intercept = np.ones(n_maps)\n",
    "design = np.vstack([design_col1, design_col2, design_col3, intercept]).T\n",
    "design = design.astype(np.float16)\n",
    "\n",
    "# Define T and F contrasts\n",
    "contrast_r1 = np.atleast_2d(np.array([1, 0, 0, 0]))\n",
    "contrast_r2 = np.atleast_2d(np.array([0, 1, 0, 0]))\n",
    "contrast = np.vstack([contrast_r1, contrast_r2])\n",
    "f_contrast_indices = [1,1]\n",
    "\n",
    "# Define exchangeability blocks\n",
    "exchangeability_blocks = np.hstack([np.ones(np.floor(n_maps / 2).astype(int)) * i+1 for i in range(2)])\n",
    "if n_maps % 2 != 0:\n",
    "    exchangeability_blocks = np.hstack([exchangeability_blocks, np.ones(n_maps % 2) * 2])\n",
    "\n",
    "\n",
    "# Save design and contrast as csvs and npys\n",
    "np.save(os.path.join(meta_output_dir, 'design.npy'), design)\n",
    "np.save(os.path.join(meta_output_dir, 'contrast.npy'), contrast)\n",
    "np.save(os.path.join(meta_output_dir, 'exchangeability_blocks.npy'), exchangeability_blocks)\n",
    "np.save(os.path.join(meta_output_dir, 'f_contrast_indices.npy'), f_contrast_indices)\n",
    "pd.DataFrame(design).to_csv(os.path.join(meta_output_dir, 'design.csv'), index=False, header=False)\n",
    "pd.DataFrame(contrast).to_csv(os.path.join(meta_output_dir, 'contrast.csv'), index=False, header=False)\n",
    "pd.DataFrame(exchangeability_blocks).to_csv(os.path.join(meta_output_dir, 'exchangeability_blocks.csv'), index=False, header=False)\n",
    "pd.DataFrame(np.atleast_2d(f_contrast_indices)).to_csv(os.path.join(meta_output_dir, 'f_contrast_indices.csv'), index=False, header=False)\n"
   ]
  },
  {
   "cell_type": "markdown",
   "metadata": {},
   "source": [
    "**Create System Commands for both Prism and PALM**"
   ]
  },
  {
   "cell_type": "code",
   "execution_count": 4,
   "metadata": {},
   "outputs": [
    {
     "data": {
      "text/html": [
       "\n",
       "<div style=\"margin-bottom:1em;\">\n",
       "  <pre id=\"prism-cmd\" style=\"border:1px solid #ccc; padding:8px; white-space: pre-wrap;\">prism -i /Users/jt041/repos/prism/testing_outputs/null_brain_maps_concatenated.nii -m /Users/jt041/repos/prism/prism/data/MNI152_T1_2mm_brain_mask.nii.gz -d /Users/jt041/repos/prism/testing_outputs/design.csv -t /Users/jt041/repos/prism/testing_outputs/contrast.csv -f /Users/jt041/repos/prism/testing_outputs/f_contrast_indices.csv -n 50 -o /Users/jt041/repos/prism/testing_outputs/prism_output/prism -accel tail -save1-p -zstat -corrcon -fonly</pre>\n",
       "  <button onclick=\"\n",
       "    navigator.clipboard.writeText(document.getElementById('prism-cmd').innerText)\n",
       "      .then(() => this.textContent='Copied!')\n",
       "      .catch(() => this.textContent='Failed');\n",
       "  \">Copy Prism Command</button>\n",
       "</div>\n",
       "<div style=\"margin-bottom:1em;\">\n",
       "  <pre id=\"palm-cmd\" style=\"border:1px solid #ccc; padding:8px; white-space: pre-wrap;\">palm -i /Users/jt041/repos/prism/testing_outputs/null_brain_maps_concatenated.nii -m /Users/jt041/repos/prism/palm/data/MNI152_T1_2mm_brain_mask.nii.gz -d /Users/jt041/repos/prism/testing_outputs/design.csv -t /Users/jt041/repos/prism/testing_outputs/contrast.csv -f /Users/jt041/repos/prism/testing_outputs/f_contrast_indices.csv -n 50 -o /Users/jt041/repos/prism/testing_outputs/palm_output/palm -accel tail -save1-p -zstat -corrcon -fonly</pre>\n",
       "  <button onclick=\"\n",
       "    navigator.clipboard.writeText(document.getElementById('palm-cmd').innerText)\n",
       "      .then(() => this.textContent='Copied!')\n",
       "      .catch(() => this.textContent='Failed');\n",
       "  \">Copy PALM Command</button>\n",
       "</div>\n"
      ],
      "text/plain": [
       "<IPython.core.display.HTML object>"
      ]
     },
     "metadata": {},
     "output_type": "display_data"
    }
   ],
   "source": [
    "from IPython.display import HTML, display\n",
    "import os\n",
    "\n",
    "mask_path = '/Users/jt041/repos/prism/prism/data/MNI152_T1_2mm_brain_mask.nii.gz'\n",
    "\n",
    "prism_cmd = f\"\"\"\n",
    "prism\n",
    "-i {os.path.join(meta_output_dir, 'null_brain_maps_concatenated.nii')}\n",
    "-m {mask_path}\n",
    "-d {os.path.join(meta_output_dir, 'design.csv')}\n",
    "-t {os.path.join(meta_output_dir, 'contrast.csv')}\n",
    "-f {os.path.join(meta_output_dir, 'f_contrast_indices.csv')}\n",
    "-n 50\n",
    "-o {results_output_prefix}\n",
    "-accel tail\n",
    "-save1-p\n",
    "\"\"\"\n",
    "prism_cmd = prism_cmd.replace('\\n', ' ').strip()\n",
    "\n",
    "palm_cmd = prism_cmd.replace('prism', 'palm').replace('/palm/', '/prism/')\n",
    "\n",
    "\n",
    "# build the HTML string\n",
    "html = f\"\"\"\n",
    "<div style=\"margin-bottom:1em;\">\n",
    "  <pre id=\"prism-cmd\" style=\"border:1px solid #ccc; padding:8px; white-space: pre-wrap;\">{prism_cmd}</pre>\n",
    "  <button onclick=\"\n",
    "    navigator.clipboard.writeText(document.getElementById('prism-cmd').innerText)\n",
    "      .then(() => this.textContent='Copied!')\n",
    "      .catch(() => this.textContent='Failed');\n",
    "  \">Copy Prism Command</button>\n",
    "</div>\n",
    "<div style=\"margin-bottom:1em;\">\n",
    "  <pre id=\"palm-cmd\" style=\"border:1px solid #ccc; padding:8px; white-space: pre-wrap;\">{palm_cmd}</pre>\n",
    "  <button onclick=\"\n",
    "    navigator.clipboard.writeText(document.getElementById('palm-cmd').innerText)\n",
    "      .then(() => this.textContent='Copied!')\n",
    "      .catch(() => this.textContent='Failed');\n",
    "  \">Copy PALM Command</button>\n",
    "</div>\n",
    "\"\"\"\n",
    "\n",
    "# display it\n",
    "display(HTML(html))"
   ]
  },
  {
   "cell_type": "markdown",
   "metadata": {},
   "source": [
    "**Run sys commands**"
   ]
  },
  {
   "cell_type": "code",
   "execution_count": null,
   "metadata": {},
   "outputs": [],
   "source": [
    "%%bash\n",
    "prism -i /data/nimlab/USERS/joseph/external_python_modules/prism/testing_outputs/null_brain_maps_concatenated.nii -m /data/nimlab/software/miniforge_2024-08-31/packages/envs/nimlab_dev/lib/python3.11/site-packages/nimlab/data/MNI152_T1_2mm_brain_mask.nii -d /data/nimlab/USERS/joseph/external_python_modules/prism/testing_outputs/design.csv -t /data/nimlab/USERS/joseph/external_python_modules/prism/testing_outputs/contrast_1d.csv -n 150 -o /data/nimlab/USERS/joseph/external_python_modules/prism/testing_outputs/prism_output/prismacceltail -accel tail -save1-p"
   ]
  }
 ],
 "metadata": {
  "kernelspec": {
   "display_name": "pstn_env",
   "language": "python",
   "name": "python3"
  },
  "language_info": {
   "codemirror_mode": {
    "name": "ipython",
    "version": 3
   },
   "file_extension": ".py",
   "mimetype": "text/x-python",
   "name": "python",
   "nbconvert_exporter": "python",
   "pygments_lexer": "ipython3",
   "version": "3.13.1"
  }
 },
 "nbformat": 4,
 "nbformat_minor": 2
}
